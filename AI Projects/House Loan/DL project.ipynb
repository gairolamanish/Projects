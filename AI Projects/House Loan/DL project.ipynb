{
 "cells": [
  {
   "cell_type": "markdown",
   "id": "fd17e74a-c3fc-401c-b93d-8994c18bfc48",
   "metadata": {},
   "source": [
    "# Proj - House Loan Data Analysis"
   ]
  },
  {
   "cell_type": "code",
   "execution_count": 30,
   "id": "24ca2e1e-81a4-4d10-9d41-13fdc96d47a4",
   "metadata": {},
   "outputs": [],
   "source": [
    "import numpy as np\n",
    "import pandas as pd\n",
    "import matplotlib.pyplot as plt\n",
    "from imblearn.over_sampling import SMOTE\n",
    "import seaborn as sns\n",
    "from sklearn.preprocessing import LabelEncoder\n",
    "from sklearn.metrics import roc_auc_score, roc_curve\n",
    "from sklearn.metrics import recall_score\n",
    "from sklearn.model_selection import train_test_split\n",
    "from sklearn.preprocessing import StandardScaler\n",
    "from sklearn.impute import SimpleImputer"
   ]
  },
  {
   "cell_type": "markdown",
   "id": "af68810f-edcf-4f74-8d37-9241989770f1",
   "metadata": {},
   "source": [
    "# load dataset"
   ]
  },
  {
   "cell_type": "code",
   "execution_count": 4,
   "id": "ce7fd09d-b4a8-4a73-b15c-aad3ec1de270",
   "metadata": {},
   "outputs": [],
   "source": [
    "data = pd.read_csv('loan_data.csv')"
   ]
  },
  {
   "cell_type": "markdown",
   "id": "e2efc3fd-9b88-46c3-aca4-46d76d07c2b6",
   "metadata": {},
   "source": [
    "# checking for null values"
   ]
  },
  {
   "cell_type": "code",
   "execution_count": 6,
   "id": "43f6939b-5dfa-42c7-9e3b-afaded3a9cb2",
   "metadata": {},
   "outputs": [
    {
     "data": {
      "text/plain": [
       "SK_ID_CURR                        0\n",
       "TARGET                            0\n",
       "NAME_CONTRACT_TYPE                0\n",
       "CODE_GENDER                       0\n",
       "FLAG_OWN_CAR                      0\n",
       "                              ...  \n",
       "AMT_REQ_CREDIT_BUREAU_DAY     41519\n",
       "AMT_REQ_CREDIT_BUREAU_WEEK    41519\n",
       "AMT_REQ_CREDIT_BUREAU_MON     41519\n",
       "AMT_REQ_CREDIT_BUREAU_QRT     41519\n",
       "AMT_REQ_CREDIT_BUREAU_YEAR    41519\n",
       "Length: 122, dtype: int64"
      ]
     },
     "execution_count": 6,
     "metadata": {},
     "output_type": "execute_result"
    }
   ],
   "source": [
    "data.isnull().sum()"
   ]
  },
  {
   "cell_type": "code",
   "execution_count": 7,
   "id": "b5e58a64-7284-4e7a-bd17-6ad8ab203a1b",
   "metadata": {},
   "outputs": [],
   "source": [
    "\n",
    "data= data.drop(['AMT_REQ_CREDIT_BUREAU_DAY', 'AMT_REQ_CREDIT_BUREAU_WEEK','AMT_REQ_CREDIT_BUREAU_MON', 'AMT_REQ_CREDIT_BUREAU_QRT','AMT_REQ_CREDIT_BUREAU_YEAR'],axis=1)\n"
   ]
  },
  {
   "cell_type": "code",
   "execution_count": 8,
   "id": "2a8f6761-1947-42a4-809d-7bfc55f9f1d4",
   "metadata": {},
   "outputs": [
    {
     "data": {
      "text/plain": [
       "SK_ID_CURR                        0\n",
       "TARGET                            0\n",
       "NAME_CONTRACT_TYPE                0\n",
       "CODE_GENDER                       0\n",
       "FLAG_OWN_CAR                      0\n",
       "                              ...  \n",
       "FLAG_DOCUMENT_18                  0\n",
       "FLAG_DOCUMENT_19                  0\n",
       "FLAG_DOCUMENT_20                  0\n",
       "FLAG_DOCUMENT_21                  0\n",
       "AMT_REQ_CREDIT_BUREAU_HOUR    41519\n",
       "Length: 117, dtype: int64"
      ]
     },
     "execution_count": 8,
     "metadata": {},
     "output_type": "execute_result"
    }
   ],
   "source": [
    "data.isnull().sum()"
   ]
  },
  {
   "cell_type": "code",
   "execution_count": 9,
   "id": "cde2444b-2b6d-4916-9ab9-ad5380facc42",
   "metadata": {},
   "outputs": [],
   "source": [
    "data = data.drop(['AMT_REQ_CREDIT_BUREAU_HOUR'],axis=1)"
   ]
  },
  {
   "cell_type": "code",
   "execution_count": 10,
   "id": "6e07bf3f-3484-4ff2-bfe2-b5c0bfb85cf6",
   "metadata": {},
   "outputs": [
    {
     "data": {
      "text/plain": [
       "SK_ID_CURR            0\n",
       "TARGET                0\n",
       "NAME_CONTRACT_TYPE    0\n",
       "CODE_GENDER           0\n",
       "FLAG_OWN_CAR          0\n",
       "                     ..\n",
       "FLAG_DOCUMENT_17      0\n",
       "FLAG_DOCUMENT_18      0\n",
       "FLAG_DOCUMENT_19      0\n",
       "FLAG_DOCUMENT_20      0\n",
       "FLAG_DOCUMENT_21      0\n",
       "Length: 116, dtype: int64"
      ]
     },
     "execution_count": 10,
     "metadata": {},
     "output_type": "execute_result"
    }
   ],
   "source": [
    "data.isnull().sum()"
   ]
  },
  {
   "cell_type": "markdown",
   "id": "339686d3-7ada-4aff-bc80-a6d7056fb0fe",
   "metadata": {},
   "source": [
    "# we had a lot of missing values on the above columns so we dropped all that columns.\n",
    "# now there is no missing values in our data as per above shown"
   ]
  },
  {
   "cell_type": "markdown",
   "id": "89fd1551-197d-44f5-ab20-564f798a1ddc",
   "metadata": {},
   "source": [
    "# Print the percentage of default to a payer of the dataset for the TARGET column"
   ]
  },
  {
   "cell_type": "markdown",
   "id": "f1a1f98e-81b4-41ee-aecc-847cf9ce84ef",
   "metadata": {},
   "source": [
    "# here Target column represent the loan default status"
   ]
  },
  {
   "cell_type": "code",
   "execution_count": 11,
   "id": "bfc177d5-b961-43cc-ade6-5e35dd0d1ba4",
   "metadata": {},
   "outputs": [
    {
     "name": "stdout",
     "output_type": "stream",
     "text": [
      "Percentage of Defaulters: 8.07%\n",
      "Percentage of Non-Defaulters: 91.93%\n"
     ]
    }
   ],
   "source": [
    "default= data['TARGET'].value_counts(normalize=True) * 100\n",
    "print(f\"Percentage of Defaulters: {default[1]:.2f}%\")\n",
    "print(f\"Percentage of Non-Defaulters: {default[0]:.2f}%\")\n"
   ]
  },
  {
   "cell_type": "markdown",
   "id": "4b8b25a0-299f-4bf2-90cb-b4d9592ae6a7",
   "metadata": {},
   "source": [
    "# Check for data imbalance and balance it/ encoding"
   ]
  },
  {
   "cell_type": "markdown",
   "id": "d4cd4c40-4a85-49cb-bdd4-3417e23a76d9",
   "metadata": {},
   "source": [
    "# as in Target column there are many too many 0 than 1 , it means there is imbalance in data. hence we need to balance the data here\n",
    "# here we are going to use SMOTE technique for data balance"
   ]
  },
  {
   "cell_type": "code",
   "execution_count": 12,
   "id": "070c4ce4-9077-4d42-b2aa-94194c20f3ad",
   "metadata": {},
   "outputs": [],
   "source": [
    "# separate the columns\n",
    "\n",
    "X = data.drop(columns=['TARGET'])\n",
    "y = data['TARGET']"
   ]
  },
  {
   "cell_type": "code",
   "execution_count": 14,
   "id": "90244ead-7239-49bc-8135-adad1a116237",
   "metadata": {},
   "outputs": [],
   "source": [
    "# here we also need to check the datatype before applying the SMOTE to check if there is any categorical data present "
   ]
  },
  {
   "cell_type": "code",
   "execution_count": 15,
   "id": "c7a9c2de-e013-438b-89ee-63a35f2907ac",
   "metadata": {},
   "outputs": [
    {
     "name": "stdout",
     "output_type": "stream",
     "text": [
      "SK_ID_CURR             int64\n",
      "NAME_CONTRACT_TYPE    object\n",
      "CODE_GENDER           object\n",
      "FLAG_OWN_CAR          object\n",
      "FLAG_OWN_REALTY       object\n",
      "                       ...  \n",
      "FLAG_DOCUMENT_17       int64\n",
      "FLAG_DOCUMENT_18       int64\n",
      "FLAG_DOCUMENT_19       int64\n",
      "FLAG_DOCUMENT_20       int64\n",
      "FLAG_DOCUMENT_21       int64\n",
      "Length: 115, dtype: object\n"
     ]
    }
   ],
   "source": [
    "print(X.dtypes)\n"
   ]
  },
  {
   "cell_type": "code",
   "execution_count": 16,
   "id": "76975948-8804-4b69-bc07-02b977fe97fd",
   "metadata": {},
   "outputs": [
    {
     "name": "stdout",
     "output_type": "stream",
     "text": [
      "int64\n"
     ]
    }
   ],
   "source": [
    "print(y.dtypes)"
   ]
  },
  {
   "cell_type": "markdown",
   "id": "f0e8620a-f4f0-4637-b4d2-1e7392db3e72",
   "metadata": {},
   "source": [
    "# as it clearly showing that there is some object columns present in X so we need to fix it first"
   ]
  },
  {
   "cell_type": "markdown",
   "id": "1803bba0-3ef6-4265-a889-657614562993",
   "metadata": {},
   "source": [
    "# ONE HOT ENCODING"
   ]
  },
  {
   "cell_type": "code",
   "execution_count": 17,
   "id": "52cde2c0-f926-457b-9c4b-5de8dee4d3c8",
   "metadata": {},
   "outputs": [],
   "source": [
    "X = pd.get_dummies(X, drop_first=True)"
   ]
  },
  {
   "cell_type": "code",
   "execution_count": 18,
   "id": "891c33f4-0967-4bd9-bcfc-2c7c1cb5c7c2",
   "metadata": {},
   "outputs": [
    {
     "name": "stdout",
     "output_type": "stream",
     "text": [
      "SK_ID_CURR                           int64\n",
      "CNT_CHILDREN                         int64\n",
      "AMT_INCOME_TOTAL                   float64\n",
      "AMT_CREDIT                         float64\n",
      "AMT_ANNUITY                        float64\n",
      "                                    ...   \n",
      "WALLSMATERIAL_MODE_Others             bool\n",
      "WALLSMATERIAL_MODE_Panel              bool\n",
      "WALLSMATERIAL_MODE_Stone, brick       bool\n",
      "WALLSMATERIAL_MODE_Wooden             bool\n",
      "EMERGENCYSTATE_MODE_Yes               bool\n",
      "Length: 223, dtype: object\n"
     ]
    }
   ],
   "source": [
    "print(X.dtypes)"
   ]
  },
  {
   "cell_type": "markdown",
   "id": "90ce21f9-b220-4864-a4b9-f9e80254512c",
   "metadata": {},
   "source": [
    "# by using One Hot Encoding, now there is no object columns here. now we again check for null values in X"
   ]
  },
  {
   "cell_type": "code",
   "execution_count": 21,
   "id": "e3a87c81-7430-49ef-af2a-49e7951e99da",
   "metadata": {},
   "outputs": [
    {
     "data": {
      "text/plain": [
       "SK_ID_CURR                          0\n",
       "CNT_CHILDREN                        0\n",
       "AMT_INCOME_TOTAL                    0\n",
       "AMT_CREDIT                          0\n",
       "AMT_ANNUITY                        12\n",
       "                                   ..\n",
       "WALLSMATERIAL_MODE_Others           0\n",
       "WALLSMATERIAL_MODE_Panel            0\n",
       "WALLSMATERIAL_MODE_Stone, brick     0\n",
       "WALLSMATERIAL_MODE_Wooden           0\n",
       "EMERGENCYSTATE_MODE_Yes             0\n",
       "Length: 223, dtype: int64"
      ]
     },
     "execution_count": 21,
     "metadata": {},
     "output_type": "execute_result"
    }
   ],
   "source": [
    "X.isnull().sum()"
   ]
  },
  {
   "cell_type": "code",
   "execution_count": 34,
   "id": "29b01e5b-2a3d-4320-8874-f405bb458cb4",
   "metadata": {},
   "outputs": [],
   "source": [
    "import pandas as pd\n",
    "\n",
    "X = X.dropna(axis=1, how='any')"
   ]
  },
  {
   "cell_type": "code",
   "execution_count": 35,
   "id": "a9af7e7f-707c-4956-bfd0-aff84377a27f",
   "metadata": {},
   "outputs": [
    {
     "data": {
      "text/plain": [
       "0      0\n",
       "1      0\n",
       "2      0\n",
       "3      0\n",
       "4      0\n",
       "      ..\n",
       "218    0\n",
       "219    0\n",
       "220    0\n",
       "221    0\n",
       "222    0\n",
       "Length: 223, dtype: int64"
      ]
     },
     "execution_count": 35,
     "metadata": {},
     "output_type": "execute_result"
    }
   ],
   "source": [
    "X.isnull().sum()"
   ]
  },
  {
   "cell_type": "markdown",
   "id": "39f65e62-da76-467b-963b-1449466975e1",
   "metadata": {},
   "source": [
    "# Apply SMOTE"
   ]
  },
  {
   "cell_type": "code",
   "execution_count": 36,
   "id": "7f59d827-78ec-41f2-9bf9-343f37b98695",
   "metadata": {},
   "outputs": [],
   "source": [
    "smote = SMOTE(random_state=42)\n",
    "X_balanced, y_balanced = smote.fit_resample(X, y)"
   ]
  },
  {
   "cell_type": "code",
   "execution_count": 37,
   "id": "c1463a8f-3b24-4cfd-a141-141c4aba9172",
   "metadata": {},
   "outputs": [
    {
     "name": "stdout",
     "output_type": "stream",
     "text": [
      "TARGET\n",
      "1    282686\n",
      "0    282686\n",
      "Name: count, dtype: int64\n"
     ]
    }
   ],
   "source": [
    "print(y_balanced.value_counts())"
   ]
  },
  {
   "cell_type": "markdown",
   "id": "66c4a829-ae68-449d-ae4d-30693c0f4a93",
   "metadata": {},
   "source": [
    "# now data has been balanced"
   ]
  },
  {
   "cell_type": "markdown",
   "id": "eae750cb-2bc2-45da-ba51-ee73666bcb87",
   "metadata": {},
   "source": [
    "# Plot the data distribution"
   ]
  },
  {
   "cell_type": "code",
   "execution_count": 38,
   "id": "736f5da7-d883-4237-8519-d01b3d3b191b",
   "metadata": {},
   "outputs": [
    {
     "data": {
      "image/png": "[encoded data removed]",
      "text/plain": [
       "<Figure size 640x480 with 1 Axes>"
      ]
     },
     "metadata": {},
     "output_type": "display_data"
    }
   ],
   "source": [
    "sns.countplot(x='TARGET', data=data)\n",
    "plt.title('Class Distribution Before Balancing')\n",
    "plt.show()"
   ]
  },
  {
   "cell_type": "code",
   "execution_count": 39,
   "id": "b876425e-593b-47a6-abd4-7749d5c1f53b",
   "metadata": {},
   "outputs": [
    {
     "data": {
      "image/png": "[encoded data removed]",
      "text/plain": [
       "<Figure size 640x480 with 1 Axes>"
      ]
     },
     "metadata": {},
     "output_type": "display_data"
    }
   ],
   "source": [
    "sns.countplot(x=y_balanced)\n",
    "plt.title('Class Distribution After Balancing')\n",
    "plt.show()"
   ]
  },
  {
   "cell_type": "markdown",
   "id": "6406481e-b92b-457c-a666-db1cbd90982e",
   "metadata": {},
   "source": [
    "# Creating a neural network"
   ]
  },
  {
   "cell_type": "code",
   "execution_count": 46,
   "id": "e084f82c-18a6-4541-b12d-71d40ae4f4f7",
   "metadata": {},
   "outputs": [],
   "source": [
    "from tensorflow.keras.models import Sequential\n",
    "from tensorflow.keras.layers import Dense, Input\n",
    "from sklearn.model_selection import train_test_split\n",
    "from sklearn.preprocessing import StandardScaler"
   ]
  },
  {
   "cell_type": "code",
   "execution_count": 41,
   "id": "60e177bf-fd6f-4ee8-904e-fe37145424a6",
   "metadata": {},
   "outputs": [],
   "source": [
    "# Train-test split\n",
    "X_train, X_test, y_train, y_test = train_test_split(X_balanced, y_balanced, test_size=0.2, random_state=42)"
   ]
  },
  {
   "cell_type": "code",
   "execution_count": 42,
   "id": "9a70f3b2-ef54-4c61-80bf-4b684182c12f",
   "metadata": {},
   "outputs": [],
   "source": [
    "# Scale the data\n",
    "scaler = StandardScaler()\n",
    "X_train = scaler.fit_transform(X_train)\n",
    "X_test = scaler.transform(X_test)"
   ]
  },
  {
   "cell_type": "code",
   "execution_count": 51,
   "id": "8d6129ce-1aff-43ea-8309-a720ff3fdb8c",
   "metadata": {},
   "outputs": [],
   "source": [
    "# Build the model\n",
    "\n",
    "input_dim = X.shape[1]\n",
    "model = Sequential()\n",
    "model.add(Dense(64 ,activation='relu', input_shape=(input_dim,)))\n",
    "model.add(Dense(1, activation='sigmoid'))\n"
   ]
  },
  {
   "cell_type": "code",
   "execution_count": 52,
   "id": "43a040d7-dd8b-4731-b54e-695d632ed0d5",
   "metadata": {},
   "outputs": [],
   "source": [
    "# Compile the model\n",
    "model.compile(optimizer='adam', loss='binary_crossentropy', metrics=['accuracy'])"
   ]
  },
  {
   "cell_type": "code",
   "execution_count": 53,
   "id": "87f8b7df-4187-4156-a0fc-28a992ff6c97",
   "metadata": {},
   "outputs": [
    {
     "name": "stdout",
     "output_type": "stream",
     "text": [
      "Epoch 1/20\n",
      "\u001b[1m11308/11308\u001b[0m \u001b[32m━━━━━━━━━━━━━━━━━━━━\u001b[0m\u001b[37m\u001b[0m \u001b[1m35s\u001b[0m 2ms/step - accuracy: 0.7444 - loss: 0.5251 - val_accuracy: 0.8308 - val_loss: 0.3796\n",
      "Epoch 2/20\n",
      "\u001b[1m11308/11308\u001b[0m \u001b[32m━━━━━━━━━━━━━━━━━━━━\u001b[0m\u001b[37m\u001b[0m \u001b[1m27s\u001b[0m 2ms/step - accuracy: 0.8458 - loss: 0.3550 - val_accuracy: 0.8568 - val_loss: 0.3366\n",
      "Epoch 3/20\n",
      "\u001b[1m11308/11308\u001b[0m \u001b[32m━━━━━━━━━━━━━━━━━━━━\u001b[0m\u001b[37m\u001b[0m \u001b[1m27s\u001b[0m 2ms/step - accuracy: 0.8671 - loss: 0.3123 - val_accuracy: 0.8684 - val_loss: 0.3138\n",
      "Epoch 4/20\n",
      "\u001b[1m11308/11308\u001b[0m \u001b[32m━━━━━━━━━━━━━━━━━━━━\u001b[0m\u001b[37m\u001b[0m \u001b[1m28s\u001b[0m 2ms/step - accuracy: 0.8762 - loss: 0.2933 - val_accuracy: 0.8744 - val_loss: 0.2989\n",
      "Epoch 5/20\n",
      "\u001b[1m11308/11308\u001b[0m \u001b[32m━━━━━━━━━━━━━━━━━━━━\u001b[0m\u001b[37m\u001b[0m \u001b[1m28s\u001b[0m 2ms/step - accuracy: 0.8834 - loss: 0.2790 - val_accuracy: 0.8774 - val_loss: 0.2930\n",
      "Epoch 6/20\n",
      "\u001b[1m11308/11308\u001b[0m \u001b[32m━━━━━━━━━━━━━━━━━━━━\u001b[0m\u001b[37m\u001b[0m \u001b[1m28s\u001b[0m 2ms/step - accuracy: 0.8880 - loss: 0.2708 - val_accuracy: 0.8715 - val_loss: 0.3066\n",
      "Epoch 7/20\n",
      "\u001b[1m11308/11308\u001b[0m \u001b[32m━━━━━━━━━━━━━━━━━━━━\u001b[0m\u001b[37m\u001b[0m \u001b[1m30s\u001b[0m 3ms/step - accuracy: 0.8897 - loss: 0.2646 - val_accuracy: 0.8871 - val_loss: 0.2770\n",
      "Epoch 8/20\n",
      "\u001b[1m11308/11308\u001b[0m \u001b[32m━━━━━━━━━━━━━━━━━━━━\u001b[0m\u001b[37m\u001b[0m \u001b[1m28s\u001b[0m 2ms/step - accuracy: 0.8939 - loss: 0.2580 - val_accuracy: 0.8849 - val_loss: 0.2832\n",
      "Epoch 9/20\n",
      "\u001b[1m11308/11308\u001b[0m \u001b[32m━━━━━━━━━━━━━━━━━━━━\u001b[0m\u001b[37m\u001b[0m \u001b[1m27s\u001b[0m 2ms/step - accuracy: 0.8952 - loss: 0.2533 - val_accuracy: 0.8868 - val_loss: 0.2756\n",
      "Epoch 10/20\n",
      "\u001b[1m11308/11308\u001b[0m \u001b[32m━━━━━━━━━━━━━━━━━━━━\u001b[0m\u001b[37m\u001b[0m \u001b[1m27s\u001b[0m 2ms/step - accuracy: 0.8978 - loss: 0.2498 - val_accuracy: 0.8893 - val_loss: 0.2706\n",
      "Epoch 11/20\n",
      "\u001b[1m11308/11308\u001b[0m \u001b[32m━━━━━━━━━━━━━━━━━━━━\u001b[0m\u001b[37m\u001b[0m \u001b[1m29s\u001b[0m 3ms/step - accuracy: 0.8976 - loss: 0.2475 - val_accuracy: 0.8913 - val_loss: 0.2649\n",
      "Epoch 12/20\n",
      "\u001b[1m11308/11308\u001b[0m \u001b[32m━━━━━━━━━━━━━━━━━━━━\u001b[0m\u001b[37m\u001b[0m \u001b[1m29s\u001b[0m 3ms/step - accuracy: 0.9007 - loss: 0.2425 - val_accuracy: 0.8868 - val_loss: 0.2696\n",
      "Epoch 13/20\n",
      "\u001b[1m11308/11308\u001b[0m \u001b[32m━━━━━━━━━━━━━━━━━━━━\u001b[0m\u001b[37m\u001b[0m \u001b[1m32s\u001b[0m 3ms/step - accuracy: 0.9010 - loss: 0.2403 - val_accuracy: 0.8910 - val_loss: 0.2667\n",
      "Epoch 14/20\n",
      "\u001b[1m11308/11308\u001b[0m \u001b[32m━━━━━━━━━━━━━━━━━━━━\u001b[0m\u001b[37m\u001b[0m \u001b[1m30s\u001b[0m 3ms/step - accuracy: 0.9027 - loss: 0.2374 - val_accuracy: 0.8930 - val_loss: 0.2594\n",
      "Epoch 15/20\n",
      "\u001b[1m11308/11308\u001b[0m \u001b[32m━━━━━━━━━━━━━━━━━━━━\u001b[0m\u001b[37m\u001b[0m \u001b[1m30s\u001b[0m 3ms/step - accuracy: 0.9037 - loss: 0.2351 - val_accuracy: 0.8944 - val_loss: 0.2587\n",
      "Epoch 16/20\n",
      "\u001b[1m11308/11308\u001b[0m \u001b[32m━━━━━━━━━━━━━━━━━━━━\u001b[0m\u001b[37m\u001b[0m \u001b[1m42s\u001b[0m 3ms/step - accuracy: 0.9052 - loss: 0.2320 - val_accuracy: 0.8937 - val_loss: 0.2588\n",
      "Epoch 17/20\n",
      "\u001b[1m11308/11308\u001b[0m \u001b[32m━━━━━━━━━━━━━━━━━━━━\u001b[0m\u001b[37m\u001b[0m \u001b[1m31s\u001b[0m 3ms/step - accuracy: 0.9068 - loss: 0.2289 - val_accuracy: 0.8897 - val_loss: 0.2624\n",
      "Epoch 18/20\n",
      "\u001b[1m11308/11308\u001b[0m \u001b[32m━━━━━━━━━━━━━━━━━━━━\u001b[0m\u001b[37m\u001b[0m \u001b[1m30s\u001b[0m 3ms/step - accuracy: 0.9078 - loss: 0.2274 - val_accuracy: 0.8969 - val_loss: 0.2554\n",
      "Epoch 19/20\n",
      "\u001b[1m11308/11308\u001b[0m \u001b[32m━━━━━━━━━━━━━━━━━━━━\u001b[0m\u001b[37m\u001b[0m \u001b[1m41s\u001b[0m 3ms/step - accuracy: 0.9078 - loss: 0.2274 - val_accuracy: 0.8914 - val_loss: 0.2584\n",
      "Epoch 20/20\n",
      "\u001b[1m11308/11308\u001b[0m \u001b[32m━━━━━━━━━━━━━━━━━━━━\u001b[0m\u001b[37m\u001b[0m \u001b[1m31s\u001b[0m 3ms/step - accuracy: 0.9092 - loss: 0.2242 - val_accuracy: 0.9005 - val_loss: 0.2481\n"
     ]
    }
   ],
   "source": [
    "# Train the model\n",
    "history = model.fit(X_train, y_train, validation_split=0.2, epochs=20, batch_size=32)"
   ]
  },
  {
   "cell_type": "markdown",
   "id": "cb408d6c-8195-4891-80fc-72e121037490",
   "metadata": {},
   "source": [
    "# Calculate the sensitivity"
   ]
  },
  {
   "cell_type": "code",
   "execution_count": 54,
   "id": "2a9d2e65-3e0e-422b-bbd5-9e2e338a0593",
   "metadata": {},
   "outputs": [
    {
     "name": "stdout",
     "output_type": "stream",
     "text": [
      "\u001b[1m3534/3534\u001b[0m \u001b[32m━━━━━━━━━━━━━━━━━━━━\u001b[0m\u001b[37m\u001b[0m \u001b[1m5s\u001b[0m 1ms/step\n",
      "Sensitivity: 0.87\n"
     ]
    }
   ],
   "source": [
    "y_pred = (model.predict(X_test) > 0.5).astype(\"int32\")\n",
    "sensitivity = recall_score(y_test, y_pred)\n",
    "print(f\"Sensitivity: {sensitivity:.2f}\")"
   ]
  },
  {
   "cell_type": "markdown",
   "id": "53d4c238-67ca-40ce-991c-280c7d5b869b",
   "metadata": {},
   "source": [
    "# Specificity"
   ]
  },
  {
   "cell_type": "code",
   "execution_count": 57,
   "id": "5be0e0dd-dc6d-408d-9777-bdcca1825b1c",
   "metadata": {},
   "outputs": [
    {
     "name": "stdout",
     "output_type": "stream",
     "text": [
      "Specificity: 0.93\n"
     ]
    }
   ],
   "source": [
    "from sklearn.metrics import confusion_matrix\n",
    "cm = confusion_matrix(y_test, y_pred)\n",
    "tn, fp, fn, tp = cm.ravel()\n",
    "specificity = tn / (tn + fp)\n",
    "\n",
    "print(f\"Specificity: {specificity:.2f}\")"
   ]
  },
  {
   "cell_type": "markdown",
   "id": "7df7015e-1a1f-4990-85f9-cbcade66472c",
   "metadata": {},
   "source": [
    "# ROC curve"
   ]
  },
  {
   "cell_type": "code",
   "execution_count": 55,
   "id": "5d2c87b5-21f7-44d4-831f-1840993f2aae",
   "metadata": {},
   "outputs": [
    {
     "name": "stdout",
     "output_type": "stream",
     "text": [
      "\u001b[1m3534/3534\u001b[0m \u001b[32m━━━━━━━━━━━━━━━━━━━━\u001b[0m\u001b[37m\u001b[0m \u001b[1m5s\u001b[0m 1ms/step\n",
      "AUC Score: 0.96\n"
     ]
    }
   ],
   "source": [
    "auc = roc_auc_score(y_test, model.predict(X_test))\n",
    "print(f\"AUC Score: {auc:.2f}\")"
   ]
  },
  {
   "cell_type": "code",
   "execution_count": 56,
   "id": "8c720f47-40fa-4863-a0f8-c1df267818bf",
   "metadata": {},
   "outputs": [
    {
     "name": "stdout",
     "output_type": "stream",
     "text": [
      "\u001b[1m3534/3534\u001b[0m \u001b[32m━━━━━━━━━━━━━━━━━━━━\u001b[0m\u001b[37m\u001b[0m \u001b[1m5s\u001b[0m 1ms/step\n"
     ]
    },
    {
     "data": {
      "image/png": "[encoded data removed]",
      "text/plain": [
       "<Figure size 640x480 with 1 Axes>"
      ]
     },
     "metadata": {},
     "output_type": "display_data"
    }
   ],
   "source": [
    "fpr, tpr, _ = roc_curve(y_test, model.predict(X_test))\n",
    "plt.plot(fpr, tpr, label=f'AUC = {auc:.2f}')\n",
    "plt.xlabel('False Positive Rate')\n",
    "plt.ylabel('True Positive Rate')\n",
    "plt.title('ROC Curve')\n",
    "plt.legend()\n",
    "plt.show()"
   ]
  },
  {
   "cell_type": "markdown",
   "id": "4c8b8f7f-7ab7-4a0a-b364-3add28d141d2",
   "metadata": {},
   "source": [
    "# Conclusion"
   ]
  },
  {
   "cell_type": "markdown",
   "id": "da09ce30-cdf7-4f1b-a030-e194c3ffb206",
   "metadata": {},
   "source": [
    "# Model achieves a sensitivity of 87%, a specificity of 93%, and an AUC-ROC score of 0.96\n",
    "# Model is 87% efficient to identify the defaulters\n",
    "# Model is 93% efficient to identify non defaulters\n",
    "# Model is 96% efficient to distinguish between defauters and non defaulters"
   ]
  },
  {
   "cell_type": "code",
   "execution_count": null,
   "id": "8b5e1ee8-8be5-40bd-ba90-88cc5b7d814b",
   "metadata": {},
   "outputs": [],
   "source": []
  }
 ],
 "metadata": {
  "kernelspec": {
   "display_name": "Python 3 (ipykernel)",
   "language": "python",
   "name": "python3"
  },
  "language_info": {
   "codemirror_mode": {
    "name": "ipython",
    "version": 3
   },
   "file_extension": ".py",
   "mimetype": "text/x-python",
   "name": "python",
   "nbconvert_exporter": "python",
   "pygments_lexer": "ipython3",
   "version": "3.11.7"
  }
 },
 "nbformat": 4,
 "nbformat_minor": 5
}
