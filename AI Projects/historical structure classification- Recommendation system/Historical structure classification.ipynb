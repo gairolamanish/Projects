{
 "cells": [
  {
   "cell_type": "markdown",
   "id": "77bfe207-7a40-4a40-926d-68280792e727",
   "metadata": {},
   "source": [
    "# Basic Idea-  Here we are going to use machine learning to monitor the condition of historical structures and also build a recommendation engine"
   ]
  },
  {
   "cell_type": "markdown",
   "id": "74e00e12-334d-401b-8db1-bfff215b5ff8",
   "metadata": {},
   "source": [
    "# Step-1 --- Preprocessing of the data if needed\n",
    "# Step-2 --- use image classification and object detection model to identify stuructural issues with the help of open cv and tensorflow\n",
    "# Step-3 ---split the data\n",
    "# Step-4 ----Build and train the model\n",
    "# Step-5 --- evaluate the performance of the model and fine tuning"
   ]
  },
  {
   "cell_type": "code",
   "execution_count": 24,
   "id": "6c506367-a805-4103-8808-6dedd2b9789c",
   "metadata": {},
   "outputs": [],
   "source": [
    "# Import libraries\n",
    "\n",
    "import tensorflow as tf\n",
    "import pandas as pd\n",
    "import numpy as np\n",
    "import matplotlib.pyplot as plt\n",
    "from tensorflow.keras.preprocessing.image import ImageDataGenerator\n",
    "from tensorflow.keras.models import Sequential\n",
    "from tensorflow.keras.layers import Conv2D, MaxPooling2D, Flatten, Dense, Dropout, Input"
   ]
  },
  {
   "cell_type": "code",
   "execution_count": 25,
   "id": "0f5ee092-e023-4781-a1d2-1eb579c8e3e5",
   "metadata": {},
   "outputs": [],
   "source": [
    "train_dir = \"C:\\\\Users\\\\hp\\\\Desktop\\\\Dataset\\\\Part 1\\\\train\"\n",
    "test_dir =  \"C:\\\\Users\\\\hp\\\\Desktop\\\\Dataset\\\\Part 1\\\\test\""
   ]
  },
  {
   "cell_type": "code",
   "execution_count": 26,
   "id": "1e42d41e-e6f0-4f6d-9fc4-c28a94328901",
   "metadata": {},
   "outputs": [],
   "source": [
    "image_height= 150\n",
    "image_width = 150\n",
    "batch_size = 32"
   ]
  },
  {
   "cell_type": "code",
   "execution_count": 27,
   "id": "04f8bb02-d576-4128-a8cf-45c4e6b78f53",
   "metadata": {},
   "outputs": [],
   "source": [
    "# preprocee the image\n",
    "train_datagen = ImageDataGenerator(rescale=1./255)\n",
    "test_datagen = ImageDataGenerator(rescale=1./255)"
   ]
  },
  {
   "cell_type": "code",
   "execution_count": 28,
   "id": "d9a4c3a7-e1cc-496d-b606-db66076b37e5",
   "metadata": {},
   "outputs": [
    {
     "name": "stdout",
     "output_type": "stream",
     "text": [
      "Found 10235 images belonging to 10 classes.\n",
      "Found 1474 images belonging to 10 classes.\n"
     ]
    }
   ],
   "source": [
    "train_data = train_datagen.flow_from_directory(\n",
    "    train_dir,\n",
    "    target_size=(image_height, image_width),\n",
    "    batch_size=batch_size,\n",
    "    class_mode='categorical',  \n",
    ")\n",
    "test_data = test_datagen.flow_from_directory(\n",
    "    test_dir,\n",
    "    target_size=(image_height, image_width),\n",
    "    batch_size=batch_size,\n",
    "    class_mode='categorical',\n",
    ")"
   ]
  },
  {
   "cell_type": "code",
   "execution_count": 29,
   "id": "d960e214-4207-4af0-90da-a527d0a19e7c",
   "metadata": {},
   "outputs": [],
   "source": [
    "# Model building\n",
    "model = Sequential([\n",
    "    Input(shape=(image_height, image_width, 3)),  \n",
    "    Conv2D(32, (3, 3), activation='relu'),\n",
    "    MaxPooling2D(2, 2),\n",
    "    \n",
    "    Conv2D(64, (3, 3), activation='relu'),\n",
    "    MaxPooling2D(2, 2),\n",
    "    \n",
    "    Conv2D(128, (3, 3), activation='relu'),\n",
    "    MaxPooling2D(2, 2),\n",
    "    \n",
    "    Flatten(),\n",
    "    Dense(512, activation='relu'),\n",
    "    Dropout(0.5),\n",
    "    Dense(len(train_data.class_indices), activation='softmax')\n",
    "])\n",
    "\n",
    "model.compile(optimizer='adam', loss='categorical_crossentropy', metrics=['accuracy'])\n"
   ]
  },
  {
   "cell_type": "code",
   "execution_count": 30,
   "id": "e1f43736-678d-46fe-a2de-fae86f3aa075",
   "metadata": {},
   "outputs": [
    {
     "name": "stdout",
     "output_type": "stream",
     "text": [
      "Epoch 1/10\n",
      "\u001b[1m320/320\u001b[0m \u001b[32m━━━━━━━━━━━━━━━━━━━━\u001b[0m\u001b[37m\u001b[0m \u001b[1m276s\u001b[0m 851ms/step - accuracy: 0.3623 - loss: 1.8296 - val_accuracy: 0.5739 - val_loss: 1.2212\n",
      "Epoch 2/10\n",
      "\u001b[1m320/320\u001b[0m \u001b[32m━━━━━━━━━━━━━━━━━━━━\u001b[0m\u001b[37m\u001b[0m \u001b[1m254s\u001b[0m 793ms/step - accuracy: 0.6491 - loss: 1.0088 - val_accuracy: 0.6567 - val_loss: 0.9865\n",
      "Epoch 3/10\n",
      "\u001b[1m320/320\u001b[0m \u001b[32m━━━━━━━━━━━━━━━━━━━━\u001b[0m\u001b[37m\u001b[0m \u001b[1m247s\u001b[0m 771ms/step - accuracy: 0.7496 - loss: 0.7416 - val_accuracy: 0.6588 - val_loss: 0.9818\n",
      "Epoch 4/10\n",
      "\u001b[1m320/320\u001b[0m \u001b[32m━━━━━━━━━━━━━━━━━━━━\u001b[0m\u001b[37m\u001b[0m \u001b[1m245s\u001b[0m 765ms/step - accuracy: 0.8189 - loss: 0.5456 - val_accuracy: 0.6784 - val_loss: 0.9512\n",
      "Epoch 5/10\n",
      "\u001b[1m320/320\u001b[0m \u001b[32m━━━━━━━━━━━━━━━━━━━━\u001b[0m\u001b[37m\u001b[0m \u001b[1m239s\u001b[0m 748ms/step - accuracy: 0.8778 - loss: 0.3553 - val_accuracy: 0.6479 - val_loss: 1.3777\n",
      "Epoch 6/10\n",
      "\u001b[1m320/320\u001b[0m \u001b[32m━━━━━━━━━━━━━━━━━━━━\u001b[0m\u001b[37m\u001b[0m \u001b[1m252s\u001b[0m 787ms/step - accuracy: 0.9174 - loss: 0.2492 - val_accuracy: 0.6588 - val_loss: 1.4979\n",
      "Epoch 7/10\n",
      "\u001b[1m320/320\u001b[0m \u001b[32m━━━━━━━━━━━━━━━━━━━━\u001b[0m\u001b[37m\u001b[0m \u001b[1m255s\u001b[0m 798ms/step - accuracy: 0.9413 - loss: 0.1811 - val_accuracy: 0.7103 - val_loss: 1.2411\n",
      "Epoch 8/10\n",
      "\u001b[1m320/320\u001b[0m \u001b[32m━━━━━━━━━━━━━━━━━━━━\u001b[0m\u001b[37m\u001b[0m \u001b[1m252s\u001b[0m 786ms/step - accuracy: 0.9661 - loss: 0.1101 - val_accuracy: 0.7022 - val_loss: 1.3876\n",
      "Epoch 9/10\n",
      "\u001b[1m320/320\u001b[0m \u001b[32m━━━━━━━━━━━━━━━━━━━━\u001b[0m\u001b[37m\u001b[0m \u001b[1m254s\u001b[0m 794ms/step - accuracy: 0.9672 - loss: 0.1004 - val_accuracy: 0.7022 - val_loss: 1.4386\n",
      "Epoch 10/10\n",
      "\u001b[1m320/320\u001b[0m \u001b[32m━━━━━━━━━━━━━━━━━━━━\u001b[0m\u001b[37m\u001b[0m \u001b[1m249s\u001b[0m 778ms/step - accuracy: 0.9722 - loss: 0.0879 - val_accuracy: 0.7130 - val_loss: 1.4097\n"
     ]
    }
   ],
   "source": [
    "# Training the model\n",
    "history = model.fit(\n",
    "    train_data,\n",
    "    epochs=10,\n",
    "    validation_data=test_data\n",
    ")"
   ]
  },
  {
   "cell_type": "code",
   "execution_count": 31,
   "id": "6e0c93e2-ea03-4be6-92f7-bd66cf408822",
   "metadata": {},
   "outputs": [
    {
     "name": "stdout",
     "output_type": "stream",
     "text": [
      "\u001b[1m47/47\u001b[0m \u001b[32m━━━━━━━━━━━━━━━━━━━━\u001b[0m\u001b[37m\u001b[0m \u001b[1m9s\u001b[0m 183ms/step - accuracy: 0.7150 - loss: 1.4204\n",
      "Test accuracy: 0.7130258083343506\n"
     ]
    }
   ],
   "source": [
    "test_loss, test_acc = model.evaluate(test_data)\n",
    "print(f\"Test accuracy: {test_acc}\")"
   ]
  },
  {
   "cell_type": "code",
   "execution_count": 32,
   "id": "7de1a28f-194a-46b0-bae3-03f427e4a8af",
   "metadata": {},
   "outputs": [],
   "source": [
    "# second part"
   ]
  },
  {
   "cell_type": "code",
   "execution_count": 38,
   "id": "4a63eee3-8b13-41f4-842c-3751287ec322",
   "metadata": {},
   "outputs": [],
   "source": [
    "tourism_rating = pd.read_csv(\"tourism_rating.csv\",  encoding='ISO-8859-1')\n",
    "tourism_id = pd.read_csv(\"tourism_with_id.csv\",  encoding='ISO-8859-1')\n",
    "user_data = pd.read_csv(\"user.csv\", encoding='ISO-8859-1')"
   ]
  },
  {
   "cell_type": "code",
   "execution_count": 39,
   "id": "b1001bb9-ba12-499b-8e11-dbd1b4512a28",
   "metadata": {},
   "outputs": [
    {
     "name": "stdout",
     "output_type": "stream",
     "text": [
      "Tourism Rating Dataset:\n",
      "   User_Id  Place_Id  Place_Ratings\n",
      "0        1       179              3\n",
      "1        1       344              2\n",
      "2        1         5              5\n",
      "3        1       373              3\n",
      "4        1       101              4\n"
     ]
    }
   ],
   "source": [
    "print(\"Tourism Rating Dataset:\")\n",
    "print(tourism_rating.head())"
   ]
  },
  {
   "cell_type": "code",
   "execution_count": 40,
   "id": "38db5d56-31cf-480f-b8dd-04be48716c0a",
   "metadata": {},
   "outputs": [
    {
     "name": "stdout",
     "output_type": "stream",
     "text": [
      "\n",
      "Tourism ID Dataset:\n",
      "   Place_Id                         Place_Name  \\\n",
      "0         1                   Monumen Nasional   \n",
      "1         2                           Kota Tua   \n",
      "2         3                      Dunia Fantasi   \n",
      "3         4  Taman Mini Indonesia Indah (TMII)   \n",
      "4         5           Atlantis Water Adventure   \n",
      "\n",
      "                                         Description       Category     City  \\\n",
      "0  Monumen Nasional atau yang populer disingkat d...         Budaya  Jakarta   \n",
      "1  Kota tua di Jakarta, yang juga bernama Kota Tu...         Budaya  Jakarta   \n",
      "2  Dunia Fantasi atau disebut juga Dufan adalah t...  Taman Hiburan  Jakarta   \n",
      "3  Taman Mini Indonesia Indah merupakan suatu kaw...  Taman Hiburan  Jakarta   \n",
      "4  Atlantis Water Adventure atau dikenal dengan A...  Taman Hiburan  Jakarta   \n",
      "\n",
      "    Price  Rating  Time_Minutes  \\\n",
      "0   20000     4.6          15.0   \n",
      "1       0     4.6          90.0   \n",
      "2  270000     4.6         360.0   \n",
      "3   10000     4.5           NaN   \n",
      "4   94000     4.5          60.0   \n",
      "\n",
      "                                        Coordinate       Lat        Long  \\\n",
      "0          {'lat': -6.1753924, 'lng': 106.8271528} -6.175392  106.827153   \n",
      "1  {'lat': -6.137644799999999, 'lng': 106.8171245} -6.137645  106.817125   \n",
      "2  {'lat': -6.125312399999999, 'lng': 106.8335377} -6.125312  106.833538   \n",
      "3  {'lat': -6.302445899999999, 'lng': 106.8951559} -6.302446  106.895156   \n",
      "4             {'lat': -6.12419, 'lng': 106.839134} -6.124190  106.839134   \n",
      "\n",
      "   Unnamed: 11  Unnamed: 12  \n",
      "0          NaN            1  \n",
      "1          NaN            2  \n",
      "2          NaN            3  \n",
      "3          NaN            4  \n",
      "4          NaN            5  \n"
     ]
    }
   ],
   "source": [
    "print(\"\\nTourism ID Dataset:\")\n",
    "print(tourism_id.head())"
   ]
  },
  {
   "cell_type": "code",
   "execution_count": 41,
   "id": "ffce261e-5d36-4372-8320-91ca6f97309a",
   "metadata": {},
   "outputs": [
    {
     "name": "stdout",
     "output_type": "stream",
     "text": [
      "\n",
      "User Dataset:\n",
      "   User_Id                   Location  Age\n",
      "0        1      Semarang, Jawa Tengah   20\n",
      "1        2         Bekasi, Jawa Barat   21\n",
      "2        3        Cirebon, Jawa Barat   23\n",
      "3        4         Bekasi, Jawa Barat   21\n",
      "4        5  Lampung, Sumatera Selatan   20\n"
     ]
    }
   ],
   "source": [
    "print(\"\\nUser Dataset:\")\n",
    "print(user_data.head())"
   ]
  },
  {
   "cell_type": "code",
   "execution_count": 42,
   "id": "08ada57b-1d0a-4bc2-922e-d18b4f5417f3",
   "metadata": {},
   "outputs": [],
   "source": [
    "tourism_id = pd.read_csv(\"tourism_with_id.csv\", encoding='ISO-8859-1', usecols=lambda column: column not in ['Unnamed: 11', 'Unnamed: 12'])\n"
   ]
  },
  {
   "cell_type": "code",
   "execution_count": 43,
   "id": "4704bbf0-4a82-4d3b-9151-613cad8391c2",
   "metadata": {},
   "outputs": [
    {
     "name": "stdout",
     "output_type": "stream",
     "text": [
      "\n",
      "Tourism ID Dataset:\n",
      "   Place_Id                         Place_Name  \\\n",
      "0         1                   Monumen Nasional   \n",
      "1         2                           Kota Tua   \n",
      "2         3                      Dunia Fantasi   \n",
      "3         4  Taman Mini Indonesia Indah (TMII)   \n",
      "4         5           Atlantis Water Adventure   \n",
      "\n",
      "                                         Description       Category     City  \\\n",
      "0  Monumen Nasional atau yang populer disingkat d...         Budaya  Jakarta   \n",
      "1  Kota tua di Jakarta, yang juga bernama Kota Tu...         Budaya  Jakarta   \n",
      "2  Dunia Fantasi atau disebut juga Dufan adalah t...  Taman Hiburan  Jakarta   \n",
      "3  Taman Mini Indonesia Indah merupakan suatu kaw...  Taman Hiburan  Jakarta   \n",
      "4  Atlantis Water Adventure atau dikenal dengan A...  Taman Hiburan  Jakarta   \n",
      "\n",
      "    Price  Rating  Time_Minutes  \\\n",
      "0   20000     4.6          15.0   \n",
      "1       0     4.6          90.0   \n",
      "2  270000     4.6         360.0   \n",
      "3   10000     4.5           NaN   \n",
      "4   94000     4.5          60.0   \n",
      "\n",
      "                                        Coordinate       Lat        Long  \n",
      "0          {'lat': -6.1753924, 'lng': 106.8271528} -6.175392  106.827153  \n",
      "1  {'lat': -6.137644799999999, 'lng': 106.8171245} -6.137645  106.817125  \n",
      "2  {'lat': -6.125312399999999, 'lng': 106.8335377} -6.125312  106.833538  \n",
      "3  {'lat': -6.302445899999999, 'lng': 106.8951559} -6.302446  106.895156  \n",
      "4             {'lat': -6.12419, 'lng': 106.839134} -6.124190  106.839134  \n"
     ]
    }
   ],
   "source": [
    "print(\"\\nTourism ID Dataset:\")\n",
    "print(tourism_id.head())"
   ]
  },
  {
   "cell_type": "code",
   "execution_count": 45,
   "id": "1f9d7be0-b0e8-4235-a355-dce64aa300c6",
   "metadata": {},
   "outputs": [],
   "source": [
    "tourism_data = pd.merge(tourism_rating, tourism_id, on=\"Place_Id\")"
   ]
  },
  {
   "cell_type": "code",
   "execution_count": 46,
   "id": "1da6b5ac-3f84-42fd-b575-617c480dc6b9",
   "metadata": {},
   "outputs": [
    {
     "name": "stdout",
     "output_type": "stream",
     "text": [
      "   User_Id  Place_Id  Place_Ratings       Place_Name  \\\n",
      "0        1       179              3  Candi Ratu Boko   \n",
      "1       22       179              4  Candi Ratu Boko   \n",
      "2       40       179              3  Candi Ratu Boko   \n",
      "3       49       179              5  Candi Ratu Boko   \n",
      "4       74       179              3  Candi Ratu Boko   \n",
      "\n",
      "                                         Description Category        City  \\\n",
      "0  Situs Ratu Baka atau Candi Boko (Hanacaraka:Í¶...   Budaya  Yogyakarta   \n",
      "1  Situs Ratu Baka atau Candi Boko (Hanacaraka:Í¶...   Budaya  Yogyakarta   \n",
      "2  Situs Ratu Baka atau Candi Boko (Hanacaraka:Í¶...   Budaya  Yogyakarta   \n",
      "3  Situs Ratu Baka atau Candi Boko (Hanacaraka:Í¶...   Budaya  Yogyakarta   \n",
      "4  Situs Ratu Baka atau Candi Boko (Hanacaraka:Í¶...   Budaya  Yogyakarta   \n",
      "\n",
      "   Price  Rating  Time_Minutes                               Coordinate  \\\n",
      "0  75000     4.6          90.0  {'lat': -7.7705416, 'lng': 110.4894158}   \n",
      "1  75000     4.6          90.0  {'lat': -7.7705416, 'lng': 110.4894158}   \n",
      "2  75000     4.6          90.0  {'lat': -7.7705416, 'lng': 110.4894158}   \n",
      "3  75000     4.6          90.0  {'lat': -7.7705416, 'lng': 110.4894158}   \n",
      "4  75000     4.6          90.0  {'lat': -7.7705416, 'lng': 110.4894158}   \n",
      "\n",
      "        Lat        Long  \n",
      "0 -7.770542  110.489416  \n",
      "1 -7.770542  110.489416  \n",
      "2 -7.770542  110.489416  \n",
      "3 -7.770542  110.489416  \n",
      "4 -7.770542  110.489416  \n"
     ]
    }
   ],
   "source": [
    "print(tourism_data.head())"
   ]
  },
  {
   "cell_type": "code",
   "execution_count": 47,
   "id": "6ff652c1-0634-4b5f-86b1-84c522d3b5eb",
   "metadata": {},
   "outputs": [],
   "source": [
    "# Build a recommendation engine"
   ]
  },
  {
   "cell_type": "code",
   "execution_count": 60,
   "id": "f23364d9-fe58-4bbc-be16-f67e2f186dce",
   "metadata": {},
   "outputs": [],
   "source": [
    "from sklearn.metrics.pairwise import cosine_similarity\n",
    "from sklearn.preprocessing import MinMaxScaler\n",
    "\n",
    "user_item_matrix = tourism_data.pivot_table(\n",
    "    index=\"User_Id\", columns=\"Place_Name\", values=\"Place_Ratings\"\n",
    ").fillna(0)\n"
   ]
  },
  {
   "cell_type": "code",
   "execution_count": 61,
   "id": "c137fdee-b634-4f12-a1c0-4d8bbfc6bee7",
   "metadata": {},
   "outputs": [
    {
     "name": "stdout",
     "output_type": "stream",
     "text": [
      "Place_Name  Air Mancur Menari  Air Terjun Kali Pancur  \\\n",
      "User_Id                                                 \n",
      "1                         0.0                     0.0   \n",
      "2                         0.0                     0.0   \n",
      "3                         0.0                     0.0   \n",
      "4                         0.0                     0.0   \n",
      "5                         0.0                     0.0   \n",
      "\n",
      "Place_Name  Air Terjun Kedung Pedut  Air Terjun Semirang  \\\n",
      "User_Id                                                    \n",
      "1                               0.0                  0.0   \n",
      "2                               0.0                  0.0   \n",
      "3                               0.0                  0.0   \n",
      "4                               0.0                  0.0   \n",
      "5                               0.0                  0.0   \n",
      "\n",
      "Place_Name  Air Terjun Sri Gethuk  Alive Museum Ancol  \\\n",
      "User_Id                                                 \n",
      "1                             0.0                 0.0   \n",
      "2                             0.0                 0.0   \n",
      "3                             0.0                 0.0   \n",
      "4                             0.0                 0.0   \n",
      "5                             0.0                 0.0   \n",
      "\n",
      "Place_Name  Alun Alun Selatan Yogyakarta  Alun-Alun Kota Bandung  \\\n",
      "User_Id                                                            \n",
      "1                                    0.0                     0.0   \n",
      "2                                    0.0                     0.0   \n",
      "3                                    0.0                     2.0   \n",
      "4                                    0.0                     0.0   \n",
      "5                                    0.0                     0.0   \n",
      "\n",
      "Place_Name  Alun-alun Utara Keraton Yogyakarta  Amazing Art World  ...  \\\n",
      "User_Id                                                            ...   \n",
      "1                                          0.0                0.0  ...   \n",
      "2                                          0.0                0.0  ...   \n",
      "3                                          0.0                0.0  ...   \n",
      "4                                          0.0                0.0  ...   \n",
      "5                                          0.0                0.0  ...   \n",
      "\n",
      "Place_Name  Wisata Alam Wana Wisata Penggaron  Wisata Batu Kuda  \\\n",
      "User_Id                                                           \n",
      "1                                         0.0               0.0   \n",
      "2                                         0.0               0.0   \n",
      "3                                         0.0               0.0   \n",
      "4                                         0.0               0.0   \n",
      "5                                         0.0               0.0   \n",
      "\n",
      "Place_Name  Wisata Eling Bening  Wisata Kaliurang  \\\n",
      "User_Id                                             \n",
      "1                           0.0               0.0   \n",
      "2                           3.0               0.0   \n",
      "3                           0.0               0.0   \n",
      "4                           0.0               0.0   \n",
      "5                           0.0               0.0   \n",
      "\n",
      "Place_Name  Wisata Kampung Krisan Clapar  Wisata Kraton Jogja  \\\n",
      "User_Id                                                         \n",
      "1                                    0.0                  0.0   \n",
      "2                                    0.0                  0.0   \n",
      "3                                    0.0                  0.0   \n",
      "4                                    0.0                  0.0   \n",
      "5                                    0.0                  0.0   \n",
      "\n",
      "Place_Name  Wisata Kuliner Pecenongan  Wisata Lereng Kelir  \\\n",
      "User_Id                                                      \n",
      "1                                 0.0                  0.0   \n",
      "2                                 0.0                  2.0   \n",
      "3                                 0.0                  0.0   \n",
      "4                                 0.0                  0.0   \n",
      "5                                 0.0                  0.0   \n",
      "\n",
      "Place_Name  Wisata Mangrove Tapak  Wot Batu  \n",
      "User_Id                                      \n",
      "1                             0.0       0.0  \n",
      "2                             0.0       3.0  \n",
      "3                             0.0       0.0  \n",
      "4                             0.0       0.0  \n",
      "5                             0.0       0.0  \n",
      "\n",
      "[5 rows x 437 columns]\n"
     ]
    }
   ],
   "source": [
    "print(user_item_matrix.head())"
   ]
  },
  {
   "cell_type": "code",
   "execution_count": 62,
   "id": "af36660a-ccfe-4415-a5b7-8f7ba41e1e4b",
   "metadata": {},
   "outputs": [
    {
     "name": "stdout",
     "output_type": "stream",
     "text": [
      "User Similarity Matrix:\n",
      "User_Id       1         2         3         4         5         6         7    \\\n",
      "User_Id                                                                         \n",
      "1        1.000000  0.058921  0.010902  0.120602  0.041520  0.027104  0.000000   \n",
      "2        0.058921  1.000000  0.048176  0.000000  0.086006  0.029943  0.011765   \n",
      "3        0.010902  0.048176  1.000000  0.028665  0.063653  0.011081  0.065302   \n",
      "4        0.120602  0.000000  0.028665  1.000000  0.032752  0.116877  0.131601   \n",
      "5        0.041520  0.086006  0.063653  0.032752  1.000000  0.166165  0.000000   \n",
      "\n",
      "User_Id       8         9         10   ...       291       292       293  \\\n",
      "User_Id                                ...                                 \n",
      "1        0.090879  0.097536  0.106227  ...  0.055298  0.016140  0.000000   \n",
      "2        0.059059  0.010775  0.088733  ...  0.072546  0.086185  0.000000   \n",
      "3        0.101078  0.069780  0.039720  ...  0.007065  0.076983  0.089604   \n",
      "4        0.073093  0.061550  0.032700  ...  0.050890  0.076392  0.065864   \n",
      "5        0.150862  0.083050  0.060511  ...  0.097534  0.036649  0.057892   \n",
      "\n",
      "User_Id       294       295       296       297       298       299       300  \n",
      "User_Id                                                                        \n",
      "1        0.091073  0.035195  0.017975  0.020515  0.057127  0.108022  0.044273  \n",
      "2        0.060898  0.064804  0.142319  0.127489  0.069972  0.163305  0.013043  \n",
      "3        0.142071  0.026978  0.006124  0.068144  0.058387  0.043580  0.030166  \n",
      "4        0.037811  0.058610  0.050415  0.026971  0.073146  0.068766  0.077607  \n",
      "5        0.116613  0.057082  0.026238  0.000000  0.149857  0.041494  0.074677  \n",
      "\n",
      "[5 rows x 300 columns]\n"
     ]
    }
   ],
   "source": [
    "# Calculate user-user similarities using cosine similarity\n",
    "user_similarity = cosine_similarity(user_item_matrix)\n",
    "user_similarity_df = pd.DataFrame(\n",
    "    user_similarity, index=user_item_matrix.index, columns=user_item_matrix.index\n",
    ")\n",
    "\n",
    "# Preview user similarity matrix\n",
    "print(\"User Similarity Matrix:\")\n",
    "print(user_similarity_df.head())\n"
   ]
  },
  {
   "cell_type": "code",
   "execution_count": 71,
   "id": "f2036ad8-1aaa-498a-b489-49aa9c3486f6",
   "metadata": {},
   "outputs": [
    {
     "name": "stdout",
     "output_type": "stream",
     "text": [
      "Top recommendations for user 5:\n",
      "Place_Name\n",
      "Keraton Surabaya                 0.393517\n",
      "Gunung Lalakon                   0.383507\n",
      "Museum Pos Indonesia             0.375689\n",
      "Geoforest Watu Payung Turunan    0.375465\n",
      "Alive Museum Ancol               0.369141\n",
      "dtype: float64\n"
     ]
    }
   ],
   "source": [
    "def recommend_for_user(user_id, top_n=5):\n",
    "    if user_id not in user_similarity_df.index:\n",
    "        return \"User not found!\"\n",
    "\n",
    "    \n",
    "    similar_users = user_similarity_df[user_id].sort_values(ascending=False)\n",
    "\n",
    "  \n",
    "    similar_users_ratings = user_item_matrix.loc[similar_users.index]\n",
    "\n",
    " \n",
    "    weighted_ratings = similar_users_ratings.T.dot(similar_users) / similar_users.sum()\n",
    "\n",
    "   \n",
    "    user_ratings = user_item_matrix.loc[user_id]\n",
    "    recommendations = weighted_ratings[user_ratings == 0].sort_values(ascending=False)\n",
    "\n",
    "    return recommendations.head(top_n)\n",
    "\n",
    "\n",
    "user_id = 5\n",
    "recommendations = recommend_for_user(user_id)\n",
    "\n",
    "print(f\"Top recommendations for user {user_id}:\")\n",
    "print(recommendations)\n"
   ]
  },
  {
   "cell_type": "code",
   "execution_count": null,
   "id": "d3470873-2242-4a5e-b291-4436e4d0a638",
   "metadata": {},
   "outputs": [],
   "source": []
  }
 ],
 "metadata": {
  "kernelspec": {
   "display_name": "Python 3 (ipykernel)",
   "language": "python",
   "name": "python3"
  },
  "language_info": {
   "codemirror_mode": {
    "name": "ipython",
    "version": 3
   },
   "file_extension": ".py",
   "mimetype": "text/x-python",
   "name": "python",
   "nbconvert_exporter": "python",
   "pygments_lexer": "ipython3",
   "version": "3.11.7"
  }
 },
 "nbformat": 4,
 "nbformat_minor": 5
}
